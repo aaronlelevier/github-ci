{
 "cells": [
  {
   "cell_type": "code",
   "execution_count": 1,
   "id": "7ff2e972-c517-48c7-88cd-34fe9a6150a5",
   "metadata": {},
   "outputs": [],
   "source": [
    "import os\n",
    "import getpass\n",
    "\n",
    "import requests"
   ]
  },
  {
   "cell_type": "code",
   "execution_count": 2,
   "id": "2237a0bd-02d0-4eb4-ae03-d090e75c7ff1",
   "metadata": {},
   "outputs": [
    {
     "name": "stdin",
     "output_type": "stream",
     "text": [
      " ········\n"
     ]
    }
   ],
   "source": [
    "token = getpass.getpass()"
   ]
  },
  {
   "cell_type": "code",
   "execution_count": 4,
   "id": "e161cded-762c-47da-90f8-fb12bdfea676",
   "metadata": {},
   "outputs": [],
   "source": [
    "def headers():\n",
    "    return {\n",
    "      \"Accept\": \"application/vnd.github+json\",\n",
    "      \"Authorization\": f\"Bearer {token}\",\n",
    "      \"X-GitHub-Api-Version\": \"2022-11-28\",\n",
    "    }\n",
    "baseurl = \"https://api.github.com\"\n",
    "# headers()"
   ]
  },
  {
   "cell_type": "code",
   "execution_count": 6,
   "id": "34a2b629-e238-4e08-9f54-3fda417b48f5",
   "metadata": {
    "scrolled": true
   },
   "outputs": [
    {
     "data": {
      "text/plain": [
       "{'login': 'aaronlelevier',\n",
       " 'id': 5514112,\n",
       " 'node_id': 'MDQ6VXNlcjU1MTQxMTI=',\n",
       " 'avatar_url': 'https://avatars.githubusercontent.com/u/5514112?v=4',\n",
       " 'gravatar_id': '',\n",
       " 'url': 'https://api.github.com/users/aaronlelevier',\n",
       " 'html_url': 'https://github.com/aaronlelevier',\n",
       " 'followers_url': 'https://api.github.com/users/aaronlelevier/followers',\n",
       " 'following_url': 'https://api.github.com/users/aaronlelevier/following{/other_user}',\n",
       " 'gists_url': 'https://api.github.com/users/aaronlelevier/gists{/gist_id}',\n",
       " 'starred_url': 'https://api.github.com/users/aaronlelevier/starred{/owner}{/repo}',\n",
       " 'subscriptions_url': 'https://api.github.com/users/aaronlelevier/subscriptions',\n",
       " 'organizations_url': 'https://api.github.com/users/aaronlelevier/orgs',\n",
       " 'repos_url': 'https://api.github.com/users/aaronlelevier/repos',\n",
       " 'events_url': 'https://api.github.com/users/aaronlelevier/events{/privacy}',\n",
       " 'received_events_url': 'https://api.github.com/users/aaronlelevier/received_events',\n",
       " 'type': 'User',\n",
       " 'site_admin': False,\n",
       " 'name': 'Aaron Lelevier',\n",
       " 'company': 'Sony Interactive Entertainment',\n",
       " 'blog': 'aaronlelevier.github.io',\n",
       " 'location': 'San Diego, CA',\n",
       " 'email': 'aaron.lelevier@gmail.com',\n",
       " 'hireable': True,\n",
       " 'bio': 'What is your latest learning adventure?',\n",
       " 'twitter_username': None,\n",
       " 'public_repos': 166,\n",
       " 'public_gists': 54,\n",
       " 'followers': 33,\n",
       " 'following': 64,\n",
       " 'created_at': '2013-09-22T19:12:44Z',\n",
       " 'updated_at': '2024-01-15T12:15:04Z',\n",
       " 'private_gists': 146,\n",
       " 'total_private_repos': 4,\n",
       " 'owned_private_repos': 4,\n",
       " 'disk_usage': 223580,\n",
       " 'collaborators': 0,\n",
       " 'two_factor_authentication': True,\n",
       " 'plan': {'name': 'free',\n",
       "  'space': 976562499,\n",
       "  'collaborators': 0,\n",
       "  'private_repos': 10000}}"
      ]
     },
     "execution_count": 6,
     "metadata": {},
     "output_type": "execute_result"
    }
   ],
   "source": [
    "r = requests.get(f\"{baseurl}/user\", headers=headers(), timeout=10)\n",
    "r.json()"
   ]
  },
  {
   "cell_type": "markdown",
   "id": "2e1d473d-2fce-4af9-b1b4-ec4c4ff0a8c0",
   "metadata": {},
   "source": [
    "### create a check-run \n",
    "https://docs.github.com/en/rest/checks/runs?apiVersion=2022-11-28#create-a-check-run"
   ]
  },
  {
   "cell_type": "code",
   "execution_count": 8,
   "id": "b874d1eb-2747-4de3-ad86-491490b83f31",
   "metadata": {},
   "outputs": [
    {
     "data": {
      "text/plain": [
       "<Response [403]>"
      ]
     },
     "execution_count": 8,
     "metadata": {},
     "output_type": "execute_result"
    }
   ],
   "source": [
    "OWNER = 'aaronlelevier'\n",
    "REPO = 'dotfiles'\n",
    "head_sha = '35b8aeb5ecbafee39a555cf0b89a28a27004f97b'\n",
    "r = requests.post(\n",
    "    f\"{baseurl}/repos/{OWNER}/{REPO}/check-runs\",\n",
    "    headers=headers(),\n",
    "    json={\n",
    "        \"name\":\"test-1\",\n",
    "        \"head_sha\": head_sha,\n",
    "        \"status\":\"in_progress\"\n",
    "    })\n",
    "r"
   ]
  },
  {
   "cell_type": "code",
   "execution_count": 9,
   "id": "1cd8d019-8d96-44f7-b0a8-6d1be40c816b",
   "metadata": {},
   "outputs": [
    {
     "data": {
      "text/plain": [
       "b'{\"message\":\"You must authenticate via a GitHub App.\",\"documentation_url\":\"https://docs.github.com/rest/checks/runs#create-a-check-run\"}'"
      ]
     },
     "execution_count": 9,
     "metadata": {},
     "output_type": "execute_result"
    }
   ],
   "source": [
    "r.content"
   ]
  },
  {
   "cell_type": "code",
   "execution_count": null,
   "id": "0b3fd11a-ddda-460b-b26f-b3ae3c25d92a",
   "metadata": {},
   "outputs": [],
   "source": []
  }
 ],
 "metadata": {
  "kernelspec": {
   "display_name": "Python 3 (ipykernel)",
   "language": "python",
   "name": "python3"
  },
  "language_info": {
   "codemirror_mode": {
    "name": "ipython",
    "version": 3
   },
   "file_extension": ".py",
   "mimetype": "text/x-python",
   "name": "python",
   "nbconvert_exporter": "python",
   "pygments_lexer": "ipython3",
   "version": "3.11.4"
  }
 },
 "nbformat": 4,
 "nbformat_minor": 5
}
